{
 "cells": [
  {
   "cell_type": "code",
   "execution_count": 2,
   "metadata": {},
   "outputs": [],
   "source": [
    "import numpy as np\n",
    "from scipy.spatial import distance_matrix\n",
    "import matplotlib.pyplot as plt\n",
    "from Functions import *\n",
    "from gaussfft import gaussfft\n",
    "from PIL import Image"
   ]
  },
  {
   "cell_type": "code",
   "execution_count": 5,
   "metadata": {},
   "outputs": [
    {
     "data": {
      "text/plain": [
       "array([[255., 255., 255.],\n",
       "       [255., 255., 255.],\n",
       "       [255., 255., 255.],\n",
       "       ...,\n",
       "       [255., 255., 255.],\n",
       "       [255., 255., 255.],\n",
       "       [255., 255., 255.]], dtype=float32)"
      ]
     },
     "execution_count": 5,
     "metadata": {},
     "output_type": "execute_result"
    }
   ],
   "source": [
    "img = Image.open('Images-jpg/orange.jpg')\n",
    "I = np.asarray(img).astype(np.float32)\n",
    "Ivec = np.reshape(I, (-1, 3))\n"
   ]
  },
  {
   "cell_type": "markdown",
   "metadata": {},
   "source": [
    "## Exercise 2 : K-means clustering"
   ]
  },
  {
   "cell_type": "code",
   "execution_count": null,
   "metadata": {},
   "outputs": [],
   "source": [
    "\n",
    "def kmeans_segm(image, K, L, seed = 42):\n",
    "    \"\"\"\n",
    "    Implement a function that uses K-means to find cluster 'centers'\n",
    "    and a 'segmentation' with an index per pixel indicating with \n",
    "    cluster it is associated to.\n",
    "\n",
    "    Input arguments:\n",
    "        image - the RGB input image \n",
    "        K - number of clusters\n",
    "        L - number of iterations\n",
    "        seed - random seed\n",
    "    Output:\n",
    "        segmentation: an integer image with cluster indices\n",
    "        centers: an array with K cluster mean colors\n",
    "    \"\"\" \n",
    "    return segmentation, centers\n",
    "\n",
    "\n",
    "def mixture_prob(image, K, L, mask):\n",
    "    \"\"\"\n",
    "    Implement a function that creates a Gaussian mixture models using the pixels \n",
    "    in an image for which mask=1 and then returns an image with probabilities for\n",
    "    every pixel in the original image.\n",
    "\n",
    "    Input arguments:\n",
    "        image - the RGB input image \n",
    "        K - number of clusters\n",
    "        L - number of iterations\n",
    "        mask - an integer image where mask=1 indicates pixels used \n",
    "    Output:\n",
    "        prob: an image with probabilities per pixel\n",
    "    \"\"\" \n",
    "    return prob\n"
   ]
  },
  {
   "cell_type": "code",
   "execution_count": null,
   "metadata": {},
   "outputs": [],
   "source": [
    "segmentation, centers = kmeans_segm(image, K, L, seed) "
   ]
  },
  {
   "cell_type": "markdown",
   "metadata": {},
   "source": [
    "## Exercise 3 : Mean-shift segmentation"
   ]
  },
  {
   "cell_type": "markdown",
   "metadata": {},
   "source": [
    "## Exercise 4 : Normalized cut"
   ]
  },
  {
   "cell_type": "markdown",
   "metadata": {},
   "source": [
    "## Exercise 5 : Segmentation using graph cuts "
   ]
  }
 ],
 "metadata": {
  "kernelspec": {
   "display_name": "Python 3",
   "language": "python",
   "name": "python3"
  },
  "language_info": {
   "codemirror_mode": {
    "name": "ipython",
    "version": 3
   },
   "file_extension": ".py",
   "mimetype": "text/x-python",
   "name": "python",
   "nbconvert_exporter": "python",
   "pygments_lexer": "ipython3",
   "version": "3.11.5"
  }
 },
 "nbformat": 4,
 "nbformat_minor": 2
}
